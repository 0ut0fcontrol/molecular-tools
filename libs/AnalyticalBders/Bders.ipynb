{
 "cells": [
  {
   "cell_type": "markdown",
   "metadata": {},
   "source": [
    "# Analytical derivatives of Wilson B matrix"
   ]
  },
  {
   "cell_type": "code",
   "execution_count": null,
   "metadata": {
    "collapsed": false
   },
   "outputs": [],
   "source": [
    "from sympy import sin, cos, tan, exp, sqrt, init_printing, symbols, fcode, Eq\n",
    "from sympy.utilities.codegen import codegen\n",
    "from sympy.matrices import *\n",
    "from __future__ import print_function\n",
    "import matplotlib.pyplot as plt\n",
    "%matplotlib inline"
   ]
  },
  {
   "cell_type": "code",
   "execution_count": null,
   "metadata": {
    "collapsed": false
   },
   "outputs": [],
   "source": [
    "init_printing()"
   ]
  },
  {
   "cell_type": "code",
   "execution_count": null,
   "metadata": {
    "collapsed": true
   },
   "outputs": [],
   "source": [
    "# Define symbols\n",
    "x1,y1,z1 = symbols('x1 y1 z1', real=True)\n",
    "x2,y2,z2 = symbols('x2 y2 z2', real=True)\n",
    "x3,y3,z3 = symbols('x3 y3 z3', real=True)\n",
    "x4,y4,z4 = symbols('x4 y4 z4', real=True)"
   ]
  },
  {
   "cell_type": "markdown",
   "metadata": {},
   "source": [
    "## Stretching"
   ]
  },
  {
   "cell_type": "code",
   "execution_count": null,
   "metadata": {
    "collapsed": false
   },
   "outputs": [],
   "source": [
    "# B element (vector)\n",
    "r1 = Matrix([x1,y1,z1])\n",
    "r2 = Matrix([x2,y2,z2])\n",
    "r12 = r2 - r1\n",
    "e12 = r12/r12.norm()\n",
    "s1 = -e12\n",
    "s2 =  e12\n",
    "Bstre = Matrix([s1,s2])"
   ]
  },
  {
   "cell_type": "code",
   "execution_count": null,
   "metadata": {
    "collapsed": false
   },
   "outputs": [],
   "source": [
    "# B derivative (matrix)\n",
    "derBstre = Matrix([Bstre.diff(x1),Bstre.diff(y1),Bstre.diff(z1),\n",
    "                   Bstre.diff(x2),Bstre.diff(y2),Bstre.diff(z2)]).reshape(6,6)"
   ]
  },
  {
   "cell_type": "code",
   "execution_count": null,
   "metadata": {
    "collapsed": false
   },
   "outputs": [],
   "source": [
    "# Generate subroutine and print\n",
    "Bder = MatrixSymbol('Bder',6,6)\n",
    "subroutine = codegen(('derBstre', Eq(Bder,derBstre)), 'f95',None,'internal')\n",
    "print(subroutine[0][1])\n",
    "#f = open(subroutine[0][0],'w')\n",
    "#f.write(subroutine[0][1])\n",
    "#f.close()"
   ]
  },
  {
   "cell_type": "markdown",
   "metadata": {},
   "source": [
    "## Bending"
   ]
  },
  {
   "cell_type": "code",
   "execution_count": null,
   "metadata": {
    "collapsed": false
   },
   "outputs": [],
   "source": [
    "# B element (vector)\n",
    "r1 = Matrix([x1,y1,z1])\n",
    "r2 = Matrix([x2,y2,z2])\n",
    "r3 = Matrix([x3,y3,z3])\n",
    "r31 = r1 - r3\n",
    "r32 = r2 - r3\n",
    "e31 = r31/r31.norm()\n",
    "e32 = r32/r32.norm()\n",
    "sinphi = e31.cross(e32).norm()\n",
    "cosphi = e31.dot(e32)\n",
    "r31 = r31.norm()\n",
    "r32 = r32.norm()\n",
    "s1 = (cosphi*e31-e32)/r31/sinphi\n",
    "s2 = (cosphi*e32-e31)/r32/sinphi\n",
    "s3 = ((r31-r32*cosphi)*e31+(r32-r31*cosphi)*e32)/r31/r32/sinphi\n",
    "Bbend = Matrix([s1,s2,s3])"
   ]
  },
  {
   "cell_type": "code",
   "execution_count": null,
   "metadata": {
    "collapsed": true
   },
   "outputs": [],
   "source": [
    "# B derivative (matrix)\n",
    "derBbend = Matrix([Bbend.diff(x1),Bbend.diff(y1),Bbend.diff(z1),\n",
    "                   Bbend.diff(x2),Bbend.diff(y2),Bbend.diff(z2),\n",
    "                   Bbend.diff(x3),Bbend.diff(y3),Bbend.diff(z3)]).reshape(9,9)"
   ]
  },
  {
   "cell_type": "code",
   "execution_count": null,
   "metadata": {
    "collapsed": false
   },
   "outputs": [],
   "source": [
    "# Generate subroutine and print\n",
    "Bder = MatrixSymbol('Bder',9,9)\n",
    "subroutine = codegen(('derBbend', Eq(Bder,derBbend)), 'f95',None,'internal')\n",
    "f = open(subroutine[0][0],'w')\n",
    "f.write(subroutine[0][1])\n",
    "f.close()"
   ]
  },
  {
   "cell_type": "markdown",
   "metadata": {},
   "source": [
    "## Torsion"
   ]
  },
  {
   "cell_type": "code",
   "execution_count": 279,
   "metadata": {
    "collapsed": true
   },
   "outputs": [],
   "source": [
    "# B element (vector)\n",
    "r1 = Matrix([x1,y1,z1])\n",
    "r2 = Matrix([x2,y2,z2])\n",
    "r3 = Matrix([x3,y3,z3])\n",
    "r4 = Matrix([x4,y4,z4])\n",
    "r12 = r2 - r1\n",
    "r21 = r1 - r2\n",
    "r23 = r3 - r2\n",
    "r32 = r2 - r3\n",
    "r43 = r3 - r4\n",
    "r34 = r4 - r3\n",
    "e12 = r12/r12.norm()\n",
    "e21 = r21/r21.norm()\n",
    "e23 = r23/r23.norm()\n",
    "e32 = r32/r32.norm()\n",
    "e43 = r43/r43.norm()\n",
    "e34 = r34/r34.norm()\n",
    "sinphi2 = e21.cross(e23).norm()\n",
    "sinphi3 = e32.cross(e34).norm()\n",
    "cosphi2 = e21.dot(e23)\n",
    "cosphi3 = e32.dot(e34)\n",
    "r12 = r12.norm()\n",
    "r23 = r23.norm()\n",
    "r43 = r43.norm()\n",
    "#\n",
    "s1 = -e12.cross(e23)/r12/sinphi2**2\n",
    "s2 = (r23-r12*cosphi2)*e12.cross(e23)/r23/r12/sinphi2**2 + cosphi3*e43.cross(e32)/r23/sinphi3**2\n",
    "s3 = (r23-r43*cosphi3)*e43.cross(e32)/r23/r43/sinphi3**2 + cosphi2*e12.cross(e23)/r23/sinphi2**2\n",
    "s4 = -e43.cross(e32)/r43/sinphi3**2\n",
    "Bdihe = Matrix([s1,s2,s3,s4])"
   ]
  },
  {
   "cell_type": "code",
   "execution_count": 280,
   "metadata": {
    "collapsed": false
   },
   "outputs": [],
   "source": [
    "# B derivative (matrix)\n",
    "derBdihe = Matrix([Bdihe.diff(x1),Bdihe.diff(y1),Bdihe.diff(z1),\n",
    "                   Bdihe.diff(x2),Bdihe.diff(y2),Bdihe.diff(z2),\n",
    "                   Bdihe.diff(x3),Bdihe.diff(y3),Bdihe.diff(z3),\n",
    "                   Bdihe.diff(x4),Bdihe.diff(y4),Bdihe.diff(z4)]).reshape(12,12)"
   ]
  },
  {
   "cell_type": "code",
   "execution_count": 281,
   "metadata": {
    "collapsed": false
   },
   "outputs": [],
   "source": [
    "# Generate subroutine and print\n",
    "Bder = MatrixSymbol('Bder',12,12)\n",
    "subroutine = codegen(('derBdihe', Eq(Bder,derBdihe)), 'f95',None,'internal')\n",
    "f = open(subroutine[0][0],'w')\n",
    "f.write(subroutine[0][1])\n",
    "f.close()"
   ]
  },
  {
   "cell_type": "code",
   "execution_count": null,
   "metadata": {
    "collapsed": true
   },
   "outputs": [],
   "source": []
  }
 ],
 "metadata": {
  "kernelspec": {
   "display_name": "Python 3",
   "language": "python",
   "name": "python3"
  },
  "language_info": {
   "codemirror_mode": {
    "name": "ipython",
    "version": 3
   },
   "file_extension": ".py",
   "mimetype": "text/x-python",
   "name": "python",
   "nbconvert_exporter": "python",
   "pygments_lexer": "ipython3",
   "version": "3.4.3"
  }
 },
 "nbformat": 4,
 "nbformat_minor": 0
}
